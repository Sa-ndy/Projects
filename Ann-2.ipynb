{
  "nbformat": 4,
  "nbformat_minor": 0,
  "metadata": {
    "colab": {
      "name": "Untitled1.ipynb",
      "provenance": [],
      "collapsed_sections": [],
      "authorship_tag": "ABX9TyNnYMo0tPzqdNV7RrlQGtCn",
      "include_colab_link": true
    },
    "kernelspec": {
      "name": "python3",
      "display_name": "Python 3"
    },
    "language_info": {
      "name": "python"
    },
    "accelerator": "GPU"
  },
  "cells": [
    {
      "cell_type": "markdown",
      "metadata": {
        "id": "view-in-github",
        "colab_type": "text"
      },
      "source": [
        "<a href=\"https://colab.research.google.com/github/Sa-ndy/Projects/blob/master/Ann-2.ipynb\" target=\"_parent\"><img src=\"https://colab.research.google.com/assets/colab-badge.svg\" alt=\"Open In Colab\"/></a>"
      ]
    },
    {
      "cell_type": "code",
      "execution_count": 1,
      "metadata": {
        "id": "2HHWEGBmB_Uo"
      },
      "outputs": [],
      "source": [
        "import pandas as pd\n",
        "import numpy as np\n",
        "%matplotlib inline\n",
        "import matplotlib as mpl\n",
        "import matplotlib.pyplot as plt"
      ]
    },
    {
      "cell_type": "code",
      "source": [
        "import tensorflow as tf\n",
        "from tensorflow import keras"
      ],
      "metadata": {
        "id": "b5Qoc2rSCEN_"
      },
      "execution_count": 2,
      "outputs": []
    },
    {
      "cell_type": "code",
      "source": [
        "from sklearn.datasets import fetch_california_housing\n",
        "housing = fetch_california_housing()"
      ],
      "metadata": {
        "id": "GJx3bG55CELJ"
      },
      "execution_count": 3,
      "outputs": []
    },
    {
      "cell_type": "code",
      "source": [
        "housing.feature_names"
      ],
      "metadata": {
        "colab": {
          "base_uri": "https://localhost:8080/"
        },
        "id": "hYu7WRa2CEH9",
        "outputId": "d0d2a2db-52a1-4a69-cd21-a79314b28264"
      },
      "execution_count": 4,
      "outputs": [
        {
          "output_type": "execute_result",
          "data": {
            "text/plain": [
              "['MedInc',\n",
              " 'HouseAge',\n",
              " 'AveRooms',\n",
              " 'AveBedrms',\n",
              " 'Population',\n",
              " 'AveOccup',\n",
              " 'Latitude',\n",
              " 'Longitude']"
            ]
          },
          "metadata": {},
          "execution_count": 4
        }
      ]
    },
    {
      "cell_type": "code",
      "source": [
        "from sklearn.model_selection import train_test_split\n",
        "x_train_full,x_test,y_train_full,y_test = train_test_split(housing.data,housing.target,random_state=42)\n",
        "x_train,x_valid,y_train,y_valid=train_test_split(x_train_full,y_train_full,random_state=42)"
      ],
      "metadata": {
        "id": "bujQNCt8CEEw"
      },
      "execution_count": 5,
      "outputs": []
    },
    {
      "cell_type": "code",
      "source": [
        "from sklearn.preprocessing import StandardScaler\n",
        "scaler=StandardScaler()\n",
        "x_train=scaler.fit_transform(x_train)\n",
        "x_valid=scaler.fit_transform(x_valid)\n",
        "x_test=scaler.fit_transform(x_test)"
      ],
      "metadata": {
        "id": "bmIgx3DrCEAz"
      },
      "execution_count": 6,
      "outputs": []
    },
    {
      "cell_type": "code",
      "source": [
        "np.random.seed(42)\n",
        "tf.random.set_seed(42)"
      ],
      "metadata": {
        "id": "MTpmDpv_GTVS"
      },
      "execution_count": 7,
      "outputs": []
    },
    {
      "cell_type": "code",
      "source": [
        "x_train.shape"
      ],
      "metadata": {
        "colab": {
          "base_uri": "https://localhost:8080/"
        },
        "id": "6lZBtNO0CuoH",
        "outputId": "ab7cf897-1924-4a8d-fc76-80cb86ce8a53"
      },
      "execution_count": 8,
      "outputs": [
        {
          "output_type": "execute_result",
          "data": {
            "text/plain": [
              "(11610, 8)"
            ]
          },
          "metadata": {},
          "execution_count": 8
        }
      ]
    },
    {
      "cell_type": "code",
      "source": [
        "model=keras.models.Sequential([keras.layers.Dense(30,activation=\"relu\",input_shape=[8]),\n",
        "                               keras.layers.Dense(30,activation=\"relu\"),keras.layers.Dense(1)])"
      ],
      "metadata": {
        "id": "OJVADd25Cuj9"
      },
      "execution_count": 10,
      "outputs": []
    },
    {
      "cell_type": "code",
      "source": [
        "model.summary()"
      ],
      "metadata": {
        "colab": {
          "base_uri": "https://localhost:8080/"
        },
        "id": "KWjPIDSKCufF",
        "outputId": "6b22e330-242e-468f-cf6a-bb210d33d941"
      },
      "execution_count": 11,
      "outputs": [
        {
          "output_type": "stream",
          "name": "stdout",
          "text": [
            "Model: \"sequential_1\"\n",
            "_________________________________________________________________\n",
            " Layer (type)                Output Shape              Param #   \n",
            "=================================================================\n",
            " dense_1 (Dense)             (None, 30)                270       \n",
            "                                                                 \n",
            " dense_2 (Dense)             (None, 30)                930       \n",
            "                                                                 \n",
            " dense_3 (Dense)             (None, 1)                 31        \n",
            "                                                                 \n",
            "=================================================================\n",
            "Total params: 1,231\n",
            "Trainable params: 1,231\n",
            "Non-trainable params: 0\n",
            "_________________________________________________________________\n"
          ]
        }
      ]
    },
    {
      "cell_type": "code",
      "source": [
        "model.compile(loss=\"mean_squared_error\",optimizer=keras.optimizers.SGD(lr=1e-3),metrics=['mae'])"
      ],
      "metadata": {
        "colab": {
          "base_uri": "https://localhost:8080/"
        },
        "id": "SLKgfqWjGtf8",
        "outputId": "6abb1b70-7214-4f74-a9d3-abbe771ff4de"
      },
      "execution_count": 14,
      "outputs": [
        {
          "output_type": "stream",
          "name": "stderr",
          "text": [
            "/usr/local/lib/python3.7/dist-packages/keras/optimizer_v2/gradient_descent.py:102: UserWarning: The `lr` argument is deprecated, use `learning_rate` instead.\n",
            "  super(SGD, self).__init__(name, **kwargs)\n"
          ]
        }
      ]
    },
    {
      "cell_type": "code",
      "source": [
        "model_history=model.fit(x_train,y_train,epochs=20,validation_data=(x_valid,y_valid))"
      ],
      "metadata": {
        "colab": {
          "base_uri": "https://localhost:8080/"
        },
        "id": "T-vqTMmpIo5b",
        "outputId": "9c34866e-dd41-4f95-d093-37e02ebf4141"
      },
      "execution_count": 21,
      "outputs": [
        {
          "output_type": "stream",
          "name": "stdout",
          "text": [
            "Epoch 1/20\n",
            "363/363 [==============================] - 1s 4ms/step - loss: 0.4050 - mae: 0.4591 - val_loss: 0.4477 - val_mae: 0.4893\n",
            "Epoch 2/20\n",
            "363/363 [==============================] - 2s 4ms/step - loss: 0.4010 - mae: 0.4558 - val_loss: 0.4500 - val_mae: 0.4957\n",
            "Epoch 3/20\n",
            "363/363 [==============================] - 1s 4ms/step - loss: 0.3979 - mae: 0.4546 - val_loss: 0.4445 - val_mae: 0.4867\n",
            "Epoch 4/20\n",
            "363/363 [==============================] - 2s 4ms/step - loss: 0.3944 - mae: 0.4517 - val_loss: 0.4440 - val_mae: 0.4903\n",
            "Epoch 5/20\n",
            "363/363 [==============================] - 1s 4ms/step - loss: 0.3915 - mae: 0.4498 - val_loss: 0.4400 - val_mae: 0.4841\n",
            "Epoch 6/20\n",
            "363/363 [==============================] - 1s 4ms/step - loss: 0.3884 - mae: 0.4482 - val_loss: 0.4403 - val_mae: 0.4832\n",
            "Epoch 7/20\n",
            "363/363 [==============================] - 1s 4ms/step - loss: 0.3863 - mae: 0.4459 - val_loss: 0.4375 - val_mae: 0.4823\n",
            "Epoch 8/20\n",
            "363/363 [==============================] - 1s 4ms/step - loss: 0.3836 - mae: 0.4444 - val_loss: 0.4356 - val_mae: 0.4790\n",
            "Epoch 9/20\n",
            "363/363 [==============================] - 2s 4ms/step - loss: 0.3813 - mae: 0.4431 - val_loss: 0.4340 - val_mae: 0.4770\n",
            "Epoch 10/20\n",
            "363/363 [==============================] - 1s 4ms/step - loss: 0.3790 - mae: 0.4413 - val_loss: 0.4331 - val_mae: 0.4758\n",
            "Epoch 11/20\n",
            "363/363 [==============================] - 1s 4ms/step - loss: 0.3772 - mae: 0.4396 - val_loss: 0.4300 - val_mae: 0.4742\n",
            "Epoch 12/20\n",
            "363/363 [==============================] - 1s 4ms/step - loss: 0.3749 - mae: 0.4384 - val_loss: 0.4316 - val_mae: 0.4736\n",
            "Epoch 13/20\n",
            "363/363 [==============================] - 1s 4ms/step - loss: 0.3737 - mae: 0.4372 - val_loss: 0.4287 - val_mae: 0.4755\n",
            "Epoch 14/20\n",
            "363/363 [==============================] - 1s 4ms/step - loss: 0.3715 - mae: 0.4357 - val_loss: 0.4281 - val_mae: 0.4749\n",
            "Epoch 15/20\n",
            "363/363 [==============================] - 1s 4ms/step - loss: 0.3698 - mae: 0.4346 - val_loss: 0.4272 - val_mae: 0.4724\n",
            "Epoch 16/20\n",
            "363/363 [==============================] - 1s 4ms/step - loss: 0.3685 - mae: 0.4339 - val_loss: 0.4252 - val_mae: 0.4721\n",
            "Epoch 17/20\n",
            "363/363 [==============================] - 1s 4ms/step - loss: 0.3668 - mae: 0.4326 - val_loss: 0.4252 - val_mae: 0.4702\n",
            "Epoch 18/20\n",
            "363/363 [==============================] - 2s 4ms/step - loss: 0.3658 - mae: 0.4316 - val_loss: 0.4242 - val_mae: 0.4685\n",
            "Epoch 19/20\n",
            "363/363 [==============================] - 2s 4ms/step - loss: 0.3640 - mae: 0.4302 - val_loss: 0.4241 - val_mae: 0.4681\n",
            "Epoch 20/20\n",
            "363/363 [==============================] - 2s 4ms/step - loss: 0.3629 - mae: 0.4294 - val_loss: 0.4238 - val_mae: 0.4699\n"
          ]
        }
      ]
    },
    {
      "cell_type": "code",
      "source": [
        "mae_test = model.evaluate(x_test,y_test)"
      ],
      "metadata": {
        "colab": {
          "base_uri": "https://localhost:8080/"
        },
        "id": "VONFITtcIo9_",
        "outputId": "14f73771-18b0-43ce-a804-bb285fe1b3b4"
      },
      "execution_count": 22,
      "outputs": [
        {
          "output_type": "stream",
          "name": "stdout",
          "text": [
            "162/162 [==============================] - 0s 3ms/step - loss: 0.3792 - mae: 0.4481\n"
          ]
        }
      ]
    },
    {
      "cell_type": "code",
      "source": [
        "model_history.history"
      ],
      "metadata": {
        "colab": {
          "base_uri": "https://localhost:8080/"
        },
        "id": "_ykiEoTqIpAv",
        "outputId": "bbcc6ad8-8416-4efb-cd73-8e87860c250e"
      },
      "execution_count": 23,
      "outputs": [
        {
          "output_type": "execute_result",
          "data": {
            "text/plain": [
              "{'loss': [0.4050368368625641,\n",
              "  0.4010152518749237,\n",
              "  0.3978595435619354,\n",
              "  0.39443865418434143,\n",
              "  0.39153724908828735,\n",
              "  0.38838016986846924,\n",
              "  0.38626885414123535,\n",
              "  0.3835833668708801,\n",
              "  0.38126644492149353,\n",
              "  0.37895670533180237,\n",
              "  0.377229243516922,\n",
              "  0.3748754560947418,\n",
              "  0.373665452003479,\n",
              "  0.3714776337146759,\n",
              "  0.3698321580886841,\n",
              "  0.3685283660888672,\n",
              "  0.36684975028038025,\n",
              "  0.36577358841896057,\n",
              "  0.3639894127845764,\n",
              "  0.36285293102264404],\n",
              " 'mae': [0.4590831995010376,\n",
              "  0.45581331849098206,\n",
              "  0.4545583128929138,\n",
              "  0.45173004269599915,\n",
              "  0.4498139023780823,\n",
              "  0.4482266306877136,\n",
              "  0.44588223099708557,\n",
              "  0.44440731406211853,\n",
              "  0.44314277172088623,\n",
              "  0.4412890672683716,\n",
              "  0.4396083950996399,\n",
              "  0.43841713666915894,\n",
              "  0.4371710419654846,\n",
              "  0.43573373556137085,\n",
              "  0.4345584213733673,\n",
              "  0.43391379714012146,\n",
              "  0.4326018691062927,\n",
              "  0.4316120743751526,\n",
              "  0.43019571900367737,\n",
              "  0.4294089674949646],\n",
              " 'val_loss': [0.44769757986068726,\n",
              "  0.4499671459197998,\n",
              "  0.4445008337497711,\n",
              "  0.4440136253833771,\n",
              "  0.44004663825035095,\n",
              "  0.44025659561157227,\n",
              "  0.4375087022781372,\n",
              "  0.43560683727264404,\n",
              "  0.4339808523654938,\n",
              "  0.43314287066459656,\n",
              "  0.43002593517303467,\n",
              "  0.4316129982471466,\n",
              "  0.4287131130695343,\n",
              "  0.42808642983436584,\n",
              "  0.42720267176628113,\n",
              "  0.42524752020835876,\n",
              "  0.4252209961414337,\n",
              "  0.4242401719093323,\n",
              "  0.4240629971027374,\n",
              "  0.4237804114818573],\n",
              " 'val_mae': [0.48927611112594604,\n",
              "  0.4956519305706024,\n",
              "  0.48674747347831726,\n",
              "  0.49027276039123535,\n",
              "  0.4841480851173401,\n",
              "  0.4832341969013214,\n",
              "  0.48231446743011475,\n",
              "  0.4789665639400482,\n",
              "  0.4770084023475647,\n",
              "  0.475760817527771,\n",
              "  0.47420865297317505,\n",
              "  0.4736061990261078,\n",
              "  0.47550836205482483,\n",
              "  0.47493648529052734,\n",
              "  0.4723605811595917,\n",
              "  0.47213220596313477,\n",
              "  0.470236212015152,\n",
              "  0.46845775842666626,\n",
              "  0.4680890738964081,\n",
              "  0.4699455201625824]}"
            ]
          },
          "metadata": {},
          "execution_count": 23
        }
      ]
    },
    {
      "cell_type": "code",
      "source": [
        "pd.DataFrame(model_history.history).plot(figsize=(8,5))\n",
        "plt.grid(True)\n",
        "plt.gca().set_ylim(0,1)\n",
        "plt.show()"
      ],
      "metadata": {
        "colab": {
          "base_uri": "https://localhost:8080/",
          "height": 324
        },
        "id": "kwK5wMQEIpEs",
        "outputId": "cf57d78b-c49e-4136-d34a-7654bcab6679"
      },
      "execution_count": 24,
      "outputs": [
        {
          "output_type": "display_data",
          "data": {
            "text/plain": [
              "<Figure size 576x360 with 1 Axes>"
            ],
            "image/png": "[encoded data removed]"
          },
          "metadata": {
            "needs_background": "light"
          }
        }
      ]
    },
    {
      "cell_type": "code",
      "source": [
        "x_new=x_test[:3]"
      ],
      "metadata": {
        "id": "NnVerzZ_IpHh"
      },
      "execution_count": 25,
      "outputs": []
    },
    {
      "cell_type": "code",
      "source": [
        "y_pred=model.predict(x_new)\n",
        "print(y_pred)\n",
        "print(y_test[:3])"
      ],
      "metadata": {
        "colab": {
          "base_uri": "https://localhost:8080/"
        },
        "id": "Y48c8FqxIpJ9",
        "outputId": "ca37fe44-a832-4f40-9cf9-a3fe992baaa7"
      },
      "execution_count": 26,
      "outputs": [
        {
          "output_type": "stream",
          "name": "stdout",
          "text": [
            "[[0.7242816]\n",
            " [1.7476454]\n",
            " [4.1995516]]\n",
            "[0.477   0.458   5.00001]\n"
          ]
        }
      ]
    },
    {
      "cell_type": "code",
      "source": [
        ""
      ],
      "metadata": {
        "id": "VZPDvhJMIpN1"
      },
      "execution_count": null,
      "outputs": []
    }
  ]
}